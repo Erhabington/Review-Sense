{
 "cells": [
  {
   "cell_type": "code",
   "execution_count": null,
   "metadata": {
    "vscode": {
     "languageId": "plaintext"
    }
   },
   "outputs": [],
   "source": [
    "import pandas as pd\n",
    "from transformers import pipeline\n",
    "\n",
    "df = pd.read_csv('total_review_sentiments.csv')\n",
    "\n",
    "df['model'] = df['model'].str.lower()\n",
    "\n",
    "def summarize_phone_sentiments(model_name):\n",
    "    phone_reviews = df[df['model'] == model_name]\n",
    "\n",
    "    if phone_reviews.empty:\n",
    "        raise ValueError(f\"No reviews found for the model '{model_name}'.\")\n",
    "\n",
    "    aspect_columns = [col for col in phone_reviews.columns if col.endswith(\"_full_phrase\")]\n",
    "    if not aspect_columns:\n",
    "        raise ValueError(f\"No aspect columns found in the dataset for model '{model_name}'.\")\n",
    "\n",
    "    full_phrases = []\n",
    "    for col in aspect_columns:\n",
    "        full_phrases.extend(phone_reviews[col].dropna().tolist())\n",
    "    combined_text = \" \".join(full_phrases)\n",
    "\n",
    "    if len(combined_text.split()) < 10:\n",
    "        return \"Not enough data to generate a meaningful summary.\"\n",
    "\n",
    "    max_input_length = 1024\n",
    "    combined_text = combined_text[:max_input_length]\n",
    "\n",
    "    summarizer = pipeline('summarization', model='facebook/bart-large-cnn')\n",
    "\n",
    "    max_length = min(300, len(combined_text.split()) + 20)\n",
    "\n",
    "    summary = summarizer(combined_text, max_length=max_length, min_length=50, do_sample=False)\n",
    "    return summary[0]['summary_text']\n",
    "\n",
    "if __name__ == \"__main__\":\n",
    "    unique_models = df['model'].unique()\n",
    "    print(\"Available phone models:\")\n",
    "    for idx, model in enumerate(unique_models, start=1):\n",
    "        print(f\"{idx}. {model}\")\n",
    "\n",
    "    model_name = input(\"\\nEnter the phone model name: \").strip().lower()\n",
    "\n",
    "    try:\n",
    "        summary = summarize_phone_sentiments(model_name)\n",
    "        print(f\"\\nSummary for '{model_name}':\\n{summary}\")\n",
    "    except ValueError as e:\n",
    "        print(f\"Error: {e}\")\n"
   ]
  }
 ],
 "metadata": {
  "language_info": {
   "name": "python"
  }
 },
 "nbformat": 4,
 "nbformat_minor": 2
}
